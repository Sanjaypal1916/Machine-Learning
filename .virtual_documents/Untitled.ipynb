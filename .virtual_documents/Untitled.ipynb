import matplotlib.pyplot as plt;
import pandas as pd
import numpy as np
from sklearn import linear_model
from sklearn.datasets import load_iris


                                                    # k-means
from sklearn.cluster import KMeans
from sklearn.preprocessing import MinMaxScaler


iris = load_iris()
dir(iris)
iris.feature_names


df = pd.DataFrame(iris.data, columns=iris.feature_names)
df["target"]= iris.target
df.columns
df = df.drop( columns = ["sepal length (cm)", "sepal width (cm)"])
df.columns


plt.scatter(df["petal length (cm)"], df["petal width (cm)"])


km = KMeans(n_clusters=2)
y_predicts = km.fit_predict(df[["petal length (cm)", "petal width (cm)"]])


df["predict"] = y_predicts


df0 = df[df.predict == 0]
df1 = df[df.predict == 1]


plt.scatter(df0["petal length (cm)"], df0["petal width (cm)"], color = "blue")
plt.scatter(df1["petal length (cm)"], df1["petal width (cm)"],color="red")


scaler = MinMaxScaler()
scaler.fit(df[["petal length (cm)"]])
df["petal length (cm)"] = scaler.transform(df[["petal length (cm)"]])
scaler.fit(df[["petal width (cm)"]])
df["petal width (cm)"] = scaler.transform(df[["petal width (cm)"]])


df


km = KMeans(n_clusters=2)
y_predicts = km.fit_predict(df[["petal length (cm)", "petal width (cm)"]])



