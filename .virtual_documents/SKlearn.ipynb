import matplotlib.pyplot as plt;
import pandas as pd
import numpy as np
from sklearn import linear_model


                                                # simple linear Regression


df = pd.read_excel("Book1.xlsx")
print(df)



plt.scatter(df.area , df.price, color= "red", marker= "+")
plt.xlabel("area(sq)")
plt.ylabel("price($)")



reg = linear_model.LinearRegression()
reg.fit(df[['area']],df.price)



reg.predict([[33000]])


x =reg.coef_


y =reg.intercept_


z = x*33000 + y
print(z)


                                                        # practice


df = pd.read_csv("canada_per_capita_income.csv")
print(df.columns)

plt.scatter(df["year"], df["per capita income (US$)"], marker= "+", color="red")



reg.fit(df[["year"]], df["per capita income (US$)"])
reg.predict([[2020]])


print(reg.coef_)
print(reg.intercept_)
print(2020 * reg.coef_ +reg.intercept_)


                                                        # multi-linear regression models


df = pd.read_excel("book2.xlsx")
print(df)


average = df.bedroom.median()

import math
a = math.floor(average)
df.bedroom = df.bedroom.fillna(a)
df.bedroom


reg = linear_model.LinearRegression()
reg.fit(df[["area","bedroom","age"]],df.price )
reg.predict([[3400, 4, 5]])


print(reg.coef_)
print(reg.intercept_)


-3.35156467e+00 * 3400 + 2.00909984e+04 * 4 + -5.73434706e+02 * 5 + 21135.11286915667


df = pd.read_excel("Book2-2.xlsx")
df
p = reg.predict(df)

df["price"] = p;
print(p)
df.to_excel("book2-2.xlsx", index=False)


                                                 # saving the model into a file via "Pickle" & "Joblib"


import pickle 
with open ("model_name", "wb") as f:
    pickle.dump(reg, f)


with open ("model_name", "rb") as f:
    m = pickle.load(f)

m.predict([[3400, 4, 5]])


                                                # joblib


from sklearn.externals import joblib

joblib.dump(reg, "model_joblib")

k = joblib.load("model_joblib")
k.predict([[3400, 4, 5]])



